{
 "cells": [
  {
   "cell_type": "code",
   "execution_count": 60,
   "metadata": {},
   "outputs": [],
   "source": [
    "import math as m"
   ]
  },
  {
   "cell_type": "markdown",
   "metadata": {},
   "source": [
    "1. Find the standard deviation from the following data"
   ]
  },
  {
   "cell_type": "code",
   "execution_count": 62,
   "metadata": {},
   "outputs": [
    {
     "name": "stdout",
     "output_type": "stream",
     "text": [
      "Mean : 1158.33\n",
      "\n",
      "Deviation:\n",
      "\n",
      "x\td=(x-x')\tsq(d)\n",
      "1550\t391.67\t\t153402.78\n",
      "1700\t541.67\t\t293402.78\n",
      "900\t-258.33\t\t66736.11\n",
      "850\t-308.33\t\t95069.44\n",
      "1000\t-158.33\t\t25069.44\n",
      "950\t-208.33\t\t43402.78\n",
      "\n",
      "Variance = 135416.67\n",
      "\n",
      "Standrd Deviation:\n",
      "\n",
      "\tSD = 367.99\n"
     ]
    }
   ],
   "source": [
    "rental_sample=[1550, 1700, 900, 850, 1000, 950]\n",
    "total=0\n",
    "# Calcute Mean : x' sum(observations/number of observation)\n",
    "for i in rental_sample:\n",
    "    total=total+i\n",
    "mean=total/len(rental_sample)\n",
    "\n",
    "print('Mean : ' + str(round(mean,2)))\n",
    "\n",
    "# Calculate deviation for each observations (x-x') and Variance (sum(sq(x-x'))/n-1).\n",
    "print(\"\\nDeviation:\\n\")\n",
    "Ind_d=[]\n",
    "sum_d_sq=0\n",
    "print( \"x\\td=(x-x\\')\\tsq(d)\")\n",
    "for i in rental_sample:\n",
    "    temp=i-mean\n",
    "    Ind_d.append(temp)\n",
    "    sum_d_sq=sum_d_sq+(temp**2)\n",
    "    print(str(i)+\"\\t\"+str(round(i-mean,2))+\"\\t\\t\"+str(round(temp**2,2)))\n",
    "\n",
    "#Standrd deviation:sqrt(sum(sq(x-x'))/n-1)\n",
    "variance=sum_d_sq/(len(rental_sample)-1)\n",
    "print('\\nVariance = '+str(round(variance,2)))\n",
    "\n",
    "print(\"\\nStandrd Deviation:\\n\")\n",
    "\n",
    "print('\\tSD = '+str(round(m.sqrt(variance),2)))"
   ]
  },
  {
   "cell_type": "markdown",
   "metadata": {},
   "source": [
    "2. Find the variance for the following set of data representing trees in California (heights in feet):"
   ]
  },
  {
   "cell_type": "code",
   "execution_count": 63,
   "metadata": {},
   "outputs": [
    {
     "name": "stdout",
     "output_type": "stream",
     "text": [
      "Mean : 58.5\n",
      "\n",
      "Deviation:\n",
      "\n",
      "x\td=(x-x')\tsq(d)\n",
      "3\t-55.5\t\t3080.25\n",
      "21\t-37.5\t\t1406.25\n",
      "98\t39.5\t\t1560.25\n",
      "203\t144.5\t\t20880.25\n",
      "17\t-41.5\t\t1722.25\n",
      "9\t-49.5\t\t2450.25\n",
      "\n",
      "Variance = 6219.9\n"
     ]
    }
   ],
   "source": [
    "hieght_sample=[3, 21, 98, 203, 17, 9]\n",
    "total=0\n",
    "# Calcute Mean : x' sum(observations/number of observation)\n",
    "for i in hieght_sample:\n",
    "    total=total+i\n",
    "mean=total/len(hieght_sample)\n",
    "\n",
    "print('Mean : ' + str(round(mean,2)))\n",
    "\n",
    "# Calculate deviation for each observations (x-x') and Variance (sum(sq(x-x'))/n-1).\n",
    "print(\"\\nDeviation:\\n\")\n",
    "Ind_d=[]\n",
    "sum_d_sq=0\n",
    "print( \"x\\td=(x-x\\')\\tsq(d)\")\n",
    "for i in hieght_sample:\n",
    "    temp=i-mean\n",
    "    Ind_d.append(temp)\n",
    "    sum_d_sq=sum_d_sq+(temp**2)\n",
    "    print(str(i)+\"\\t\"+str(round(i-mean,2))+\"\\t\\t\"+str(round(temp**2,2)))\n",
    "\n",
    "    variance=sum_d_sq/(len(hieght_sample)-1)\n",
    "print('\\nVariance = '+str(round(variance,2)))"
   ]
  },
  {
   "cell_type": "markdown",
   "metadata": {},
   "source": [
    "3. Find the probability distribution of the variable for number of subjects a student from the given class has failed in."
   ]
  },
  {
   "cell_type": "code",
   "execution_count": 59,
   "metadata": {},
   "outputs": [
    {
     "name": "stdout",
     "output_type": "stream",
     "text": [
      "The probability of failing in 0 subjects = 80/100= 0.8\n",
      "The probability of failing in 1 subjects = 10/100= 0.1\n",
      "The probability of failing in 2 subjects = 7/100= 0.07\n",
      "The probability of failing in 3 subjects = 3/100= 0.03\n"
     ]
    }
   ],
   "source": [
    "stud_sample=[80, 10, 7, 3]\n",
    "subj_fail_sample=[0, 1, 2, 3]\n",
    "prob=[]\n",
    "for st,sbf in zip(stud_sample,subj_fail_sample):\n",
    "    print('The probability of failing in '+str(sbf)+ ' subjects = '+str(st)+'/100= '+str(st/100))"
   ]
  }
 ],
 "metadata": {
  "kernelspec": {
   "display_name": "Python 3",
   "language": "python",
   "name": "python3"
  },
  "language_info": {
   "codemirror_mode": {
    "name": "ipython",
    "version": 3
   },
   "file_extension": ".py",
   "mimetype": "text/x-python",
   "name": "python",
   "nbconvert_exporter": "python",
   "pygments_lexer": "ipython3",
   "version": "3.7.0"
  }
 },
 "nbformat": 4,
 "nbformat_minor": 2
}
